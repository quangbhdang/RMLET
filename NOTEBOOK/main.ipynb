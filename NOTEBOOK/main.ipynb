{
 "cells": [
  {
   "cell_type": "markdown",
   "metadata": {},
   "source": [
    "# Instruction\n",
    "\n",
    "This notebook purpose is to serves as the base template for machine learning notebook at RMIT university. The notebook is broken down into multiple header structure with the purpose of allowing for a quick navigation. Please feel free to edit this as required.\n",
    "\n",
    "For testing and deployment purpose the function are broken down into smaller library that is import into the notebook. However when submitting the notebook as an assignment RMIT typically require you to combine all of the function into one file to submit. \n",
    "\n",
    "In this case you can either manually copy the function that you use or run a custom script to combine the notebook with function  that are call within this notebook."
   ]
  },
  {
   "cell_type": "code",
   "execution_count": null,
   "metadata": {
    "vscode": {
     "languageId": "plaintext"
    }
   },
   "outputs": [],
   "source": [
    "# Standard Data Science Library import\n",
    "\n",
    "import numpy, pandas\n",
    "import seaborn as sns\n",
    "import sklearn"
   ]
  },
  {
   "cell_type": "code",
   "execution_count": null,
   "metadata": {
    "vscode": {
     "languageId": "plaintext"
    }
   },
   "outputs": [],
   "source": [
    "# Global control function\n",
    "\n",
    "step-vis = False # Default as False, set to True to visualise each steps in function\n",
    "new-run = False # Default as False, set to True run the entire notebook as a new run. This will take a long time.\n",
    "save-models = False # Default as False, set it to save the model generate from the notebook scripts in the MODEL folder.\n",
    "save-figs = False # Save figure image in the FIGURE folder. \n",
    "# Save model will overide exiting model if it having the same name so change name of the model if you wishes to rerun it differently\n"
   ]
  },
  {
   "cell_type": "markdown",
   "metadata": {},
   "source": [
    "# Data Import"
   ]
  },
  {
   "cell_type": "code",
   "execution_count": null,
   "metadata": {
    "vscode": {
     "languageId": "plaintext"
    }
   },
   "outputs": [],
   "source": [
    "path = \"DATA/example.data\""
   ]
  },
  {
   "cell_type": "code",
   "execution_count": null,
   "metadata": {
    "vscode": {
     "languageId": "plaintext"
    }
   },
   "outputs": [],
   "source": [
    "df = pd.from_csv(path)"
   ]
  },
  {
   "cell_type": "markdown",
   "metadata": {},
   "source": [
    "# Data Exploration"
   ]
  },
  {
   "cell_type": "markdown",
   "metadata": {},
   "source": [
    "# Pipeline"
   ]
  },
  {
   "cell_type": "code",
   "execution_count": null,
   "metadata": {
    "vscode": {
     "languageId": "plaintext"
    }
   },
   "outputs": [],
   "source": [
    "# Import pipeline preprocess code\n",
    "# from PIPELINE import function_1\n"
   ]
  }
 ],
 "metadata": {
  "language_info": {
   "name": "python"
  }
 },
 "nbformat": 4,
 "nbformat_minor": 2
}
